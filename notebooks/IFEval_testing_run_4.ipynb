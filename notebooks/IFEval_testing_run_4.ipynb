{
  "cells": [
    {
      "cell_type": "markdown",
      "metadata": {
        "id": "s1xszHqdIieh"
      },
      "source": [
        "# IFEval Testing"
      ]
    },
    {
      "cell_type": "code",
      "execution_count": null,
      "metadata": {
        "colab": {
          "base_uri": "https://localhost:8080/"
        },
        "id": "uAsu08nhIzu1",
        "outputId": "cfa21113-592f-4003-a704-87dbefe50273"
      },
      "outputs": [],
      "source": [
        "!nvcc --version"
      ]
    },
    {
      "cell_type": "code",
      "execution_count": null,
      "metadata": {
        "colab": {
          "base_uri": "https://localhost:8080/"
        },
        "id": "nUhy3WQIIzD4",
        "outputId": "80f4b014-23c4-4ba9-8ead-27f3fc12f86c"
      },
      "outputs": [],
      "source": [
        "!nvidia-smi"
      ]
    },
    {
      "cell_type": "code",
      "execution_count": null,
      "metadata": {
        "colab": {
          "base_uri": "https://localhost:8080/"
        },
        "id": "Zfjv9nzQSyZ0",
        "outputId": "4cfda855-98b2-4557-9037-a998ef3e5423"
      },
      "outputs": [],
      "source": [
        "!pip install -q -U transformers peft accelerate einops sentencepiece bitsandbytes"
      ]
    },
    {
      "cell_type": "code",
      "execution_count": null,
      "metadata": {
        "colab": {
          "base_uri": "https://localhost:8080/"
        },
        "id": "JmH_vRXXylCW",
        "outputId": "d893f655-c03d-423e-cd5b-69af849c53f6"
      },
      "outputs": [],
      "source": [
        "# clone repository\n",
        "!git clone https://github.com/EleutherAI/lm-evaluation-harness.git\n",
        "#!git clone https://github.com/daniel-furman/lm-evaluation-harness.git"
      ]
    },
    {
      "cell_type": "code",
      "execution_count": null,
      "metadata": {
        "id": "YscQplI9fVVB"
      },
      "outputs": [],
      "source": [
        "# change to repo directory\n",
        "import os\n",
        "os.chdir(\"lm-evaluation-harness\")"
      ]
    },
    {
      "cell_type": "code",
      "execution_count": null,
      "metadata": {
        "colab": {
          "base_uri": "https://localhost:8080/"
        },
        "id": "oWagqq3cwLgF",
        "outputId": "2502c1e5-fc64-470a-f7c0-a4a436177a0f",
        "scrolled": true
      },
      "outputs": [],
      "source": [
        "#!pip install -e .\n",
        "#!pip install -e .[zeno]\n",
        "#!pip install -e .[ifeval]\n",
        "!pip install -e '.[anthropic]'"
      ]
    },
    {
      "cell_type": "code",
      "execution_count": null,
      "metadata": {
        "colab": {
          "base_uri": "https://localhost:8080/",
          "height": 144
        },
        "id": "QSp37lvCq65V",
        "outputId": "dcffb159-8cc5-4aa1-f139-735c003e2384"
      },
      "outputs": [],
      "source": [
        "os.mkdir(f\"output\")"
      ]
    },
    {
      "cell_type": "code",
      "execution_count": null,
      "metadata": {
        "id": "PLKXszQd0e2F"
      },
      "outputs": [],
      "source": [
        "models = [\"claude-3-opus\",]\n",
        "for model in models:\n",
        "    os.mkdir(f\"output/{model}-with-chat-templates\")"
      ]
    },
    {
      "cell_type": "code",
      "execution_count": null,
      "metadata": {
        "colab": {
          "base_uri": "https://localhost:8080/"
        },
        "id": "jvLHDUux0e2F",
        "outputId": "96e93a44-b309-49f2-e8b8-9629471bf24b"
      },
      "outputs": [],
      "source": [
        "!ls output"
      ]
    },
    {
      "cell_type": "markdown",
      "metadata": {
        "id": "EfJwzAkk-_6j"
      },
      "source": [
        "# IFEval"
      ]
    },
    {
      "cell_type": "code",
      "execution_count": null,
      "metadata": {
        "id": "bwm2lqeb1M1X"
      },
      "outputs": [],
      "source": [
        "from google.colab import userdata\n",
        "\n",
        "os.environ['ANTHROPIC_API_KEY'] = userdata.get('ANTHROPIC_API_KEY')"
      ]
    },
    {
      "cell_type": "code",
      "execution_count": null,
      "metadata": {
        "colab": {
          "base_uri": "https://localhost:8080/"
        },
        "id": "1fFGgSaC2nCH",
        "outputId": "e11ce64f-5295-472e-a8df-22d3fddc6d03"
      },
      "outputs": [],
      "source": [
        "!lm_eval --model anthropic-chat \\\n",
        "    --model_args=model=\"claude-3-haiku-20240307\",system=\"You are a helpful assistant.\" \\\n",
        "    --tasks ifeval \\\n",
        "    --output_path \"output/claude-3-haiku-with-chat-templates\" \\\n",
        "    --log_samples \\\n",
        "    --num_fewshot 0"
      ]
    },
    {
      "cell_type": "code",
      "execution_count": null,
      "metadata": {
        "colab": {
          "base_uri": "https://localhost:8080/"
        },
        "id": "sW1eDxVFC9SP",
        "outputId": "66df7781-f03f-4041-9fe4-85ec1e604431",
        "scrolled": true
      },
      "outputs": [],
      "source": [
        "!lm_eval --model anthropic-chat \\\n",
        "    --model_args=model=\"claude-3-sonnet-20240229\",system=\"You are a helpful assistant.\" \\\n",
        "    --tasks ifeval \\\n",
        "    --output_path \"output/claude-3-sonnet-with-chat-templates\" \\\n",
        "    --log_samples \\\n",
        "    --num_fewshot 0"
      ]
    },
    {
      "cell_type": "code",
      "execution_count": null,
      "metadata": {
        "colab": {
          "base_uri": "https://localhost:8080/"
        },
        "id": "sr5LBcy22uxE",
        "outputId": "a4e67c96-d791-4821-871e-c05269772fb5"
      },
      "outputs": [],
      "source": [
        "!lm_eval --model anthropic-chat \\\n",
        "    --model_args=model=\"claude-3-opus-20240229\",system=\"You are a helpful assistant.\" \\\n",
        "    --tasks ifeval \\\n",
        "    --output_path \"output/claude-3-opus-with-chat-templates\" \\\n",
        "    --log_samples \\\n",
        "    --num_fewshot 0"
      ]
    },
    {
      "cell_type": "code",
      "execution_count": null,
      "metadata": {
        "id": "WRvlukHdzy33"
      },
      "outputs": [],
      "source": [
        "from google.colab import userdata\n",
        "#userdata.get('ANTHROPIC_API_KEY')"
      ]
    },
    {
      "cell_type": "code",
      "execution_count": null,
      "metadata": {
        "colab": {
          "base_uri": "https://localhost:8080/"
        },
        "id": "rQnLNtLxy1LU",
        "outputId": "b7c107e4-03a5-4e5f-9fc7-33e70bc73f42"
      },
      "outputs": [],
      "source": [
        "import anthropic\n",
        "\n",
        "anthropic.Anthropic(api_key=userdata.get('ANTHROPIC_API_KEY')).messages.create(\n",
        "    model=\"claude-3-haiku-20240307\",\n",
        "    max_tokens=1024,\n",
        "    messages=[\n",
        "        {\"role\": \"user\", \"content\": \"Hello, world\"}\n",
        "    ],\n",
        "    system=\"You are a helpful assistant.\"\n",
        "\n",
        ")"
      ]
    },
    {
      "cell_type": "code",
      "execution_count": null,
      "metadata": {
        "id": "r5uKhLhz6YDz",
        "scrolled": true
      },
      "outputs": [],
      "source": [
        "!lm_eval --model hf \\\n",
        "    --model_args=pretrained=\"CohereForAI/c4ai-command-r-plus\",dtype=\"bfloat16\",use_chat_template=False,load_in_4bit=True \\\n",
        "    --tasks ifeval \\\n",
        "    --batch_size 1 \\\n",
        "    --output_path \"output/c4ai-command-r-plus-without-chat-templates\" \\\n",
        "    --log_samples \\\n",
        "    --num_fewshot 0"
      ]
    },
    {
      "cell_type": "markdown",
      "metadata": {
        "id": "-tpyvNcZ0e2G"
      },
      "source": [
        "## Nous-Hermes-2-Mixtral-8x7B-DPO"
      ]
    },
    {
      "cell_type": "code",
      "execution_count": null,
      "metadata": {
        "colab": {
          "background_save": true
        },
        "id": "p4Y0sHjz0e2G",
        "scrolled": true
      },
      "outputs": [],
      "source": [
        "!lm_eval --model hf \\\n",
        "    --model_args=pretrained=NousResearch/Nous-Hermes-2-Mixtral-8x7B-DPO,dtype=\"bfloat16\",parallelize=True,device_map=\"auto\",use_chat_template=True,system_prompt=\"You are a helpful assistant.\" \\\n",
        "    --tasks ifeval \\\n",
        "    --batch_size 32 \\\n",
        "    --output_path \"output/Nous-Hermes-2-Mixtral-8x7B-DPO-with-chat-templates\" \\\n",
        "    --log_samples \\\n",
        "    --num_fewshot 0"
      ]
    },
    {
      "cell_type": "code",
      "execution_count": null,
      "metadata": {
        "id": "tFXyOVSh0e2G",
        "scrolled": true
      },
      "outputs": [],
      "source": [
        "!lm_eval --model hf \\\n",
        "    --model_args=pretrained=berkeley-nest/Starling-LM-7B-alpha,dtype=\"bfloat16\",parallelize=True,device_map=\"auto\",use_chat_template=False \\\n",
        "    --tasks ifeval \\\n",
        "    --batch_size 32 \\\n",
        "    --output_path \"output/Nous-Hermes-2-Mixtral-8x7B-DPO-without-chat-templates\" \\\n",
        "    --log_samples \\\n",
        "    --num_fewshot 0"
      ]
    },
    {
      "cell_type": "markdown",
      "metadata": {
        "id": "Lg96kF-d0e2G"
      },
      "source": [
        "# Zeno visualize experiment"
      ]
    },
    {
      "cell_type": "code",
      "execution_count": null,
      "metadata": {
        "id": "grhCXjU10e2G"
      },
      "outputs": [],
      "source": [
        "!python scripts/zeno_visualize.py \\\n",
        "    --data_path \"output\" \\\n",
        "    --project_name \"IFEval-chat-templating-experiments-run-2\""
      ]
    },
    {
      "cell_type": "code",
      "execution_count": null,
      "metadata": {
        "id": "CHn-XFeV0e2G"
      },
      "outputs": [],
      "source": []
    }
  ],
  "metadata": {
    "colab": {
      "machine_shape": "hm",
      "provenance": []
    },
    "kernelspec": {
      "display_name": "Python 3",
      "name": "python3"
    },
    "language_info": {
      "codemirror_mode": {
        "name": "ipython",
        "version": 3
      },
      "file_extension": ".py",
      "mimetype": "text/x-python",
      "name": "python",
      "nbconvert_exporter": "python",
      "pygments_lexer": "ipython3",
      "version": "3.10.6"
    }
  },
  "nbformat": 4,
  "nbformat_minor": 0
}
