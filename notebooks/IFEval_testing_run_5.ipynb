{
  "cells": [
    {
      "cell_type": "markdown",
      "metadata": {
        "id": "s1xszHqdIieh"
      },
      "source": [
        "# IFEval Testing"
      ]
    },
    {
      "cell_type": "code",
      "execution_count": null,
      "metadata": {
        "colab": {
          "base_uri": "https://localhost:8080/"
        },
        "id": "uAsu08nhIzu1",
        "outputId": "c289c04d-1a18-44bd-9b91-a69177084500"
      },
      "outputs": [],
      "source": [
        "!nvcc --version"
      ]
    },
    {
      "cell_type": "code",
      "execution_count": null,
      "metadata": {
        "colab": {
          "base_uri": "https://localhost:8080/"
        },
        "id": "nUhy3WQIIzD4",
        "outputId": "cc91d79f-b173-48b6-92d9-3ede4d4e0f3e"
      },
      "outputs": [],
      "source": [
        "!nvidia-smi"
      ]
    },
    {
      "cell_type": "code",
      "execution_count": null,
      "metadata": {
        "colab": {
          "base_uri": "https://localhost:8080/"
        },
        "id": "Zfjv9nzQSyZ0",
        "outputId": "4d376888-d7d0-4aa0-c37c-078fe2dbfe77"
      },
      "outputs": [],
      "source": [
        "!pip install -q -U transformers peft accelerate einops sentencepiece bitsandbytes"
      ]
    },
    {
      "cell_type": "code",
      "execution_count": null,
      "metadata": {
        "colab": {
          "base_uri": "https://localhost:8080/"
        },
        "id": "JmH_vRXXylCW",
        "outputId": "13af1314-696d-4f58-da72-853d67ea9a22"
      },
      "outputs": [],
      "source": [
        "# clone repository\n",
        "!git clone https://github.com/EleutherAI/lm-evaluation-harness.git\n",
        "#!git clone https://github.com/daniel-furman/lm-evaluation-harness.git"
      ]
    },
    {
      "cell_type": "code",
      "execution_count": null,
      "metadata": {
        "id": "YscQplI9fVVB"
      },
      "outputs": [],
      "source": [
        "# change to repo directory\n",
        "import os\n",
        "os.chdir(\"lm-evaluation-harness\")"
      ]
    },
    {
      "cell_type": "code",
      "execution_count": null,
      "metadata": {
        "colab": {
          "base_uri": "https://localhost:8080/"
        },
        "id": "oWagqq3cwLgF",
        "outputId": "a54dc20a-3792-4e52-cbd8-4c2b7596c920",
        "scrolled": true
      },
      "outputs": [],
      "source": [
        "!pip install -e .\n",
        "!pip install -e .[zeno]\n",
        "!pip install -e .[ifeval]\n",
        "!pip install -e '.[anthropic]'\n",
        "!pip install -e '.[openai]'"
      ]
    },
    {
      "cell_type": "code",
      "execution_count": null,
      "metadata": {
        "id": "QSp37lvCq65V"
      },
      "outputs": [],
      "source": [
        "os.mkdir(f\"output\")"
      ]
    },
    {
      "cell_type": "code",
      "execution_count": null,
      "metadata": {
        "id": "PLKXszQd0e2F"
      },
      "outputs": [],
      "source": [
        "models = [\"gpt-3.5-turbo\",\"gpt-4-turbo\",]\n",
        "for model in models:\n",
        "    os.mkdir(f\"output/{model}-with-chat-templates\")"
      ]
    },
    {
      "cell_type": "code",
      "execution_count": null,
      "metadata": {
        "colab": {
          "base_uri": "https://localhost:8080/"
        },
        "id": "jvLHDUux0e2F",
        "outputId": "a276ee0c-9b86-47fb-aeda-0babb538a39d"
      },
      "outputs": [],
      "source": [
        "!ls output"
      ]
    },
    {
      "cell_type": "markdown",
      "metadata": {
        "id": "EfJwzAkk-_6j"
      },
      "source": [
        "# IFEval"
      ]
    },
    {
      "cell_type": "code",
      "execution_count": null,
      "metadata": {
        "id": "bwm2lqeb1M1X"
      },
      "outputs": [],
      "source": [
        "from google.colab import userdata\n",
        "\n",
        "os.environ['OPENAI_API_KEY'] = userdata.get('OPENAI_API_KEY')"
      ]
    },
    {
      "cell_type": "code",
      "execution_count": null,
      "metadata": {
        "colab": {
          "base_uri": "https://localhost:8080/"
        },
        "id": "1fFGgSaC2nCH",
        "outputId": "b362c1f1-81ae-4aeb-9537-3a30cabdfb23"
      },
      "outputs": [],
      "source": [
        "!lm_eval --model openai-chat-completions \\\n",
        "    --model_args=model=\"gpt-3.5-turbo\",system=\"You are a helpful assistant.\" \\\n",
        "    --tasks ifeval \\\n",
        "    --output_path \"output/gpt-3.5-turbo-with-chat-templates\" \\\n",
        "    --log_samples \\\n",
        "    --num_fewshot 0"
      ]
    },
    {
      "cell_type": "code",
      "execution_count": null,
      "metadata": {
        "colab": {
          "base_uri": "https://localhost:8080/"
        },
        "id": "sW1eDxVFC9SP",
        "outputId": "88b24187-fc9d-45fa-9252-98b31d2c294d",
        "scrolled": true
      },
      "outputs": [],
      "source": [
        "!lm_eval --model openai-chat-completions \\\n",
        "    --model_args=model=\"gpt-4-turbo-preview\",system=\"You are a helpful assistant.\" \\\n",
        "    --tasks ifeval \\\n",
        "    --output_path \"output/gpt-4-turbo-with-chat-templates\" \\\n",
        "    --log_samples \\\n",
        "    --num_fewshot 0"
      ]
    },
    {
      "cell_type": "markdown",
      "metadata": {
        "id": "Lg96kF-d0e2G"
      },
      "source": [
        "# Zeno visualize experiment"
      ]
    },
    {
      "cell_type": "code",
      "execution_count": null,
      "metadata": {
        "id": "grhCXjU10e2G"
      },
      "outputs": [],
      "source": [
        "!python scripts/zeno_visualize.py \\\n",
        "    --data_path \"output\" \\\n",
        "    --project_name \"IFEval-chat-templating-experiments-run-2\""
      ]
    },
    {
      "cell_type": "code",
      "execution_count": null,
      "metadata": {
        "id": "CHn-XFeV0e2G"
      },
      "outputs": [],
      "source": []
    }
  ],
  "metadata": {
    "colab": {
      "machine_shape": "hm",
      "provenance": []
    },
    "kernelspec": {
      "display_name": "Python 3",
      "name": "python3"
    },
    "language_info": {
      "codemirror_mode": {
        "name": "ipython",
        "version": 3
      },
      "file_extension": ".py",
      "mimetype": "text/x-python",
      "name": "python",
      "nbconvert_exporter": "python",
      "pygments_lexer": "ipython3",
      "version": "3.10.6"
    }
  },
  "nbformat": 4,
  "nbformat_minor": 0
}
