{
 "cells": [
  {
   "cell_type": "code",
   "execution_count": null,
   "metadata": {},
   "outputs": [],
   "source": [
    "from random import choices\n",
    "import numpy as np"
   ]
  },
  {
   "cell_type": "code",
   "execution_count": null,
   "metadata": {},
   "outputs": [],
   "source": [
    "def bootstrap(data, metric, B=100000, confidence_level=0.95):\n",
    "    critical_value=(1-confidence_level)/2\n",
    "    lower_sig=100*critical_value\n",
    "    upper_sig=100*(1-critical_value)\n",
    "\n",
    "    accuracies=[]\n",
    "    \n",
    "    for b in range(B):\n",
    "        choice=choices(data, k=len(data))\n",
    "        choice=np.array(choice)\n",
    "        accuracy=metric(choice)\n",
    "        \n",
    "        accuracies.append(accuracy)\n",
    "    \n",
    "    percentiles=np.percentile(accuracies, [lower_sig, 50, upper_sig])\n",
    "    \n",
    "    lower=percentiles[0]\n",
    "    median=percentiles[1]\n",
    "    upper=percentiles[2]\n",
    "    \n",
    "    return lower, median, upper"
   ]
  },
  {
   "cell_type": "code",
   "execution_count": null,
   "metadata": {},
   "outputs": [],
   "source": [
    "def accuracy(data):\n",
    "    metric = np.sum(data)/len(data)\n",
    "    return metric"
   ]
  },
  {
   "cell_type": "code",
   "execution_count": null,
   "metadata": {},
   "outputs": [],
   "source": [
    "data = np.zeros(541)\n",
    "data\n",
    "num_ones = int(np.round(0.384*len(data)))\n",
    "num_ones\n",
    "data[0:num_ones] = 1\n",
    "data\n"
   ]
  },
  {
   "cell_type": "code",
   "execution_count": null,
   "metadata": {},
   "outputs": [],
   "source": [
    "lower, median, upper = bootstrap(data, accuracy)"
   ]
  },
  {
   "cell_type": "code",
   "execution_count": null,
   "metadata": {},
   "outputs": [],
   "source": [
    "print(\"%.3f, %s%% Bootstrap confidence interval: [%.3f, %.3f]\" % (median, 0.95*100, lower, upper))"
   ]
  },
  {
   "cell_type": "code",
   "execution_count": null,
   "metadata": {},
   "outputs": [],
   "source": [
    "print((median-lower + upper-median)/2*100)"
   ]
  },
  {
   "cell_type": "code",
   "execution_count": null,
   "metadata": {},
   "outputs": [],
   "source": []
  },
  {
   "cell_type": "code",
   "execution_count": null,
   "metadata": {},
   "outputs": [],
   "source": []
  }
 ],
 "metadata": {
  "kernelspec": {
   "display_name": "base",
   "language": "python",
   "name": "python3"
  },
  "language_info": {
   "codemirror_mode": {
    "name": "ipython",
    "version": 3
   },
   "file_extension": ".py",
   "mimetype": "text/x-python",
   "name": "python",
   "nbconvert_exporter": "python",
   "pygments_lexer": "ipython3",
   "version": "3.8.8"
  }
 },
 "nbformat": 4,
 "nbformat_minor": 2
}
