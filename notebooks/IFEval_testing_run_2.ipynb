{
 "cells": [
  {
   "cell_type": "markdown",
   "metadata": {
    "id": "s1xszHqdIieh"
   },
   "source": [
    "# IFEval Testing"
   ]
  },
  {
   "cell_type": "code",
   "execution_count": null,
   "metadata": {
    "colab": {
     "base_uri": "https://localhost:8080/"
    },
    "id": "uAsu08nhIzu1",
    "outputId": "1c679417-d3af-41c3-86e6-027f03012a51"
   },
   "outputs": [],
   "source": [
    "!nvcc --version"
   ]
  },
  {
   "cell_type": "code",
   "execution_count": null,
   "metadata": {
    "colab": {
     "base_uri": "https://localhost:8080/"
    },
    "id": "nUhy3WQIIzD4",
    "outputId": "2650bd4d-a4fe-46bf-d003-9ff235112825"
   },
   "outputs": [],
   "source": [
    "!nvidia-smi"
   ]
  },
  {
   "cell_type": "code",
   "execution_count": null,
   "metadata": {
    "colab": {
     "base_uri": "https://localhost:8080/"
    },
    "id": "Zfjv9nzQSyZ0",
    "outputId": "78791e35-a898-4fa2-ae40-361d2a26cfce"
   },
   "outputs": [],
   "source": [
    "#!pip install -q -U transformers peft accelerate einops sentencepiece bitsandbytes"
   ]
  },
  {
   "cell_type": "code",
   "execution_count": null,
   "metadata": {
    "colab": {
     "base_uri": "https://localhost:8080/"
    },
    "id": "JmH_vRXXylCW",
    "outputId": "26e57ecb-4e38-4801-9e77-59b4796d108f"
   },
   "outputs": [],
   "source": [
    "# clone repository\n",
    "#!git clone --branch add-chat-templating https://github.com/EleutherAI/lm-evaluation-harness.git\n",
    "#!git clone https://github.com/daniel-furman/lm-evaluation-harness.git"
   ]
  },
  {
   "cell_type": "code",
   "execution_count": null,
   "metadata": {
    "id": "YscQplI9fVVB"
   },
   "outputs": [],
   "source": [
    "# change to repo directory\n",
    "import os\n",
    "os.chdir(\"lm-evaluation-harness\")"
   ]
  },
  {
   "cell_type": "code",
   "execution_count": null,
   "metadata": {
    "colab": {
     "base_uri": "https://localhost:8080/"
    },
    "id": "oWagqq3cwLgF",
    "outputId": "00cc7556-1831-4cef-ee40-7fa49c52ee8b",
    "scrolled": true
   },
   "outputs": [],
   "source": [
    "#!pip install -e .\n",
    "#!pip install -e .[zeno]\n",
    "#!pip install -e .[ifeval]"
   ]
  },
  {
   "cell_type": "code",
   "execution_count": null,
   "metadata": {
    "id": "QSp37lvCq65V"
   },
   "outputs": [],
   "source": [
    "#os.mkdir(f\"output\")"
   ]
  },
  {
   "cell_type": "code",
   "execution_count": null,
   "metadata": {},
   "outputs": [],
   "source": [
    "from huggingface_hub import login \n",
    "login(\"\")"
   ]
  },
  {
   "cell_type": "code",
   "execution_count": null,
   "metadata": {},
   "outputs": [],
   "source": [
    "os.environ[\"ZENO_API_KEY\"]=\"\""
   ]
  },
  {
   "cell_type": "code",
   "execution_count": null,
   "metadata": {},
   "outputs": [],
   "source": [
    "#models = [\"Mixtral-8x7B-Instruct-v0.1\", \"Nous-Hermes-2-Mixtral-8x7B-DPO\"]\n",
    "#for model in models:\n",
    "#    os.mkdir(f\"output/{model}-with-chat-templates\")\n",
    "#    os.mkdir(f\"output/{model}-without-chat-templates\")"
   ]
  },
  {
   "cell_type": "code",
   "execution_count": null,
   "metadata": {},
   "outputs": [],
   "source": [
    "!ls output"
   ]
  },
  {
   "cell_type": "markdown",
   "metadata": {
    "id": "EfJwzAkk-_6j"
   },
   "source": [
    "# IFEval"
   ]
  },
  {
   "cell_type": "markdown",
   "metadata": {},
   "source": [
    "## Mixtral-8x7B-Instruct"
   ]
  },
  {
   "cell_type": "code",
   "execution_count": null,
   "metadata": {
    "colab": {
     "background_save": true,
     "base_uri": "https://localhost:8080/"
    },
    "id": "sW1eDxVFC9SP",
    "outputId": "f3d85d0c-8d50-4e90-edaa-393726afee14",
    "scrolled": true
   },
   "outputs": [],
   "source": [
    "!lm_eval --model hf \\\n",
    "    --model_args=pretrained=mistralai/Mixtral-8x7B-Instruct-v0.1,dtype=\"bfloat16\",parallelize=True,device_map=\"auto\",use_chat_template=True \\\n",
    "    --tasks ifeval \\\n",
    "    --batch_size 32 \\\n",
    "    --output_path \"output/Mixtral-8x7B-Instruct-v0.1-with-chat-templates\" \\\n",
    "    --log_samples \\\n",
    "    --num_fewshot 0"
   ]
  },
  {
   "cell_type": "code",
   "execution_count": null,
   "metadata": {
    "colab": {
     "base_uri": "https://localhost:8080/"
    },
    "id": "r5uKhLhz6YDz",
    "outputId": "540f4a30-839b-408f-a2f5-6710879b8ca0",
    "scrolled": true
   },
   "outputs": [],
   "source": [
    "!lm_eval --model hf \\\n",
    "    --model_args=pretrained=mistralai/Mixtral-8x7B-Instruct-v0.1,dtype=\"bfloat16\",parallelize=True,device_map=\"auto\",use_chat_template=False \\\n",
    "    --tasks ifeval \\\n",
    "    --batch_size 32 \\\n",
    "    --output_path \"output/Mixtral-8x7B-Instruct-v0.1-without-chat-templates\" \\\n",
    "    --log_samples \\\n",
    "    --num_fewshot 0"
   ]
  },
  {
   "cell_type": "markdown",
   "metadata": {},
   "source": [
    "## Nous-Hermes-2-Mixtral-8x7B-DPO"
   ]
  },
  {
   "cell_type": "code",
   "execution_count": null,
   "metadata": {
    "colab": {
     "background_save": true,
     "base_uri": "https://localhost:8080/"
    },
    "id": "sW1eDxVFC9SP",
    "outputId": "f3d85d0c-8d50-4e90-edaa-393726afee14",
    "scrolled": true
   },
   "outputs": [],
   "source": [
    "!lm_eval --model hf \\\n",
    "    --model_args=pretrained=NousResearch/Nous-Hermes-2-Mixtral-8x7B-DPO,dtype=\"bfloat16\",parallelize=True,device_map=\"auto\",use_chat_template=True,system_prompt=\"You are a helpful assistant.\" \\\n",
    "    --tasks ifeval \\\n",
    "    --batch_size 32 \\\n",
    "    --output_path \"output/Nous-Hermes-2-Mixtral-8x7B-DPO-with-chat-templates\" \\\n",
    "    --log_samples \\\n",
    "    --num_fewshot 0"
   ]
  },
  {
   "cell_type": "code",
   "execution_count": null,
   "metadata": {
    "colab": {
     "base_uri": "https://localhost:8080/"
    },
    "id": "r5uKhLhz6YDz",
    "outputId": "540f4a30-839b-408f-a2f5-6710879b8ca0",
    "scrolled": true
   },
   "outputs": [],
   "source": [
    "!lm_eval --model hf \\\n",
    "    --model_args=pretrained=berkeley-nest/Starling-LM-7B-alpha,dtype=\"bfloat16\",parallelize=True,device_map=\"auto\",use_chat_template=False \\\n",
    "    --tasks ifeval \\\n",
    "    --batch_size 32 \\\n",
    "    --output_path \"output/Nous-Hermes-2-Mixtral-8x7B-DPO-without-chat-templates\" \\\n",
    "    --log_samples \\\n",
    "    --num_fewshot 0"
   ]
  },
  {
   "cell_type": "markdown",
   "metadata": {},
   "source": [
    "# Zeno visualize experiment"
   ]
  },
  {
   "cell_type": "code",
   "execution_count": null,
   "metadata": {},
   "outputs": [],
   "source": [
    "!python scripts/zeno_visualize.py \\\n",
    "    --data_path \"output\" \\\n",
    "    --project_name \"IFEval-chat-templating-experiments-run-2\""
   ]
  },
  {
   "cell_type": "code",
   "execution_count": null,
   "metadata": {},
   "outputs": [],
   "source": []
  }
 ],
 "metadata": {
  "accelerator": "GPU",
  "colab": {
   "gpuType": "A100",
   "machine_shape": "hm",
   "provenance": []
  },
  "kernelspec": {
   "display_name": "Python 3 (ipykernel)",
   "language": "python",
   "name": "python3"
  },
  "language_info": {
   "codemirror_mode": {
    "name": "ipython",
    "version": 3
   },
   "file_extension": ".py",
   "mimetype": "text/x-python",
   "name": "python",
   "nbconvert_exporter": "python",
   "pygments_lexer": "ipython3",
   "version": "3.10.6"
  }
 },
 "nbformat": 4,
 "nbformat_minor": 4
}
